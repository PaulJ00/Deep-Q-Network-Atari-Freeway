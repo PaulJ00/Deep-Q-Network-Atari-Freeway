{
 "cells": [
  {
   "cell_type": "markdown",
   "source": [
    "# <center> Projekt-Seminar Deep Learing (Prof. Dr. Jörn Hees)\n",
    "\n",
    "## <center> Grupppe: Simon Lausch, Jan Felix Fuchs, Paul Jansen und Tobias Pappen\n",
    "\n",
    "## <center> Deep Reinforcement Learning (Atari Spiel Freeway)\n",
    "\n",
    "## <center> Notebook von Paul Jansen\n",
    "\n",
    "##\n",
    "\n"
   ],
   "metadata": {
    "collapsed": false
   }
  },
  {
   "cell_type": "markdown",
   "source": [
    "### Einführung in das Projekt und Notebook\n",
    "\n",
    "Hinweis: Grundlegende informationen und Dokumentation zum Spiel gibt es in der Baseline Dokumentation\n",
    "(https://github.com/TobiasPapen/projektSeminar)\n",
    "\n",
    "Das folgende Notebook beinhaltet ein Deep Q-Learning Modell das auf der Baseline der Dreiergruppe basiert.\n",
    "\n",
    "Abgrenzung zur Baseline:\n",
    "\n",
    "* RGB Observation-Space (Baseline RAM Basiert)\n",
    "\n",
    "* Observation-Space Cropped (Zuschneiden des RGB Bildes)\n",
    "\n",
    "* Convolutional Neuronales Netz\n",
    "\n",
    "\n",
    "\n",
    "Quellen:\n",
    "* https://pytorch.org/tutorials/intermediate/reinforcement_q_learning.html"
   ],
   "metadata": {
    "collapsed": false
   }
  },
  {
   "cell_type": "code",
   "execution_count": null,
   "outputs": [],
   "source": [
    "%pip install gym[atari]\n",
    "%pip install ale_py\n",
    "%pip install autorom[accept-rom-license]\n",
    "%pip install torch\n",
    "%pip install gym[box2d]\n",
    "%pip install torchvision\n",
    "%pip install matplotlib"
   ],
   "metadata": {
    "collapsed": false
   }
  },
  {
   "cell_type": "code",
   "execution_count": 45,
   "outputs": [],
   "source": [
    "import gym\n",
    "import math\n",
    "import random\n",
    "import numpy as np\n",
    "from collections import namedtuple, deque\n",
    "from itertools import count\n",
    "from PIL import Image\n",
    "\n",
    "import torch\n",
    "import torch.nn as nn\n",
    "import torch.optim as optim\n",
    "import torch.nn.functional as F\n",
    "import torchvision.transforms as T\n",
    "\n",
    "\n",
    "import matplotlib\n",
    "import numpy as np\n",
    "import matplotlib.pyplot as plt"
   ],
   "metadata": {
    "collapsed": false
   }
  },
  {
   "cell_type": "code",
   "execution_count": 46,
   "outputs": [],
   "source": [
    "class ClipReward_2(gym.RewardWrapper):\n",
    "    #Method to initialize the updated reward function\n",
    "    def __init__(self, env, min_reward, max_reward):\n",
    "        #Inheritance: calling construtor of the super class\n",
    "        super().__init__(env)\n",
    "\n",
    "        #Saving the given parameters\n",
    "        self.pre_pos = 6                                    #previous position of the chicken (lowest value = 6)\n",
    "        self.min_reward = min_reward                        #minimum reward\n",
    "        self.max_reward = max_reward                        #maximum reward\n",
    "        self.reward_range = (min_reward, max_reward)        #range of the reward\n",
    "        self.target_runs = 0                                #number of target runs\n",
    "\n",
    "    #Method to calculate the reward\n",
    "    def reward(self, reward):\n",
    "        #Recieving the RAM\n",
    "        ram = env.unwrapped.ale.getRAM()\n",
    "        #Saving the current position and the cooldown value of the chicken\n",
    "        #The cooldown value is not zero if the chicken got hit, was reset and now needs to wait for a short time\n",
    "        current_pos = ram[14]\n",
    "        cooldown = ram[106]\n",
    "\n",
    "        if(current_pos >= 175):\n",
    "            #Chicken reaches the goal\n",
    "            reward = reward_goal\n",
    "            self.target_runs += 1\n",
    "        elif(self.pre_pos > 6 and (not cooldown == 0)):\n",
    "            #Chicken collides with a car (reset)\n",
    "            #By checking the cooldown value we are making sure that the we detect a \"false\" collision\n",
    "            #Otherwise the agent would get a negative reward for moving forwards and then immediately backwards)\n",
    "            reward = reward_crash\n",
    "        #Chicken recieves a reward connected to its current position on the road (independent from crash or goal)\n",
    "        reward += current_pos - (500 / current_pos)\n",
    "\n",
    "        #Getting new previous position\n",
    "        self.pre_pos = current_pos\n",
    "        #Returning reward\n",
    "        return np.clip(reward, self.min_reward, self.max_reward)\n",
    "\n",
    "    #Method to recieve the number target runs\n",
    "    def get_TargetRuns(self):\n",
    "        return self.target_runs\n",
    "\n",
    "    #Method to reset the number of target runs\n",
    "    def reset_TargetRuns(self):\n",
    "        self.target_runs = 0"
   ],
   "metadata": {
    "collapsed": false
   }
  },
  {
   "cell_type": "markdown",
   "source": [
    "Convolutional Neural Network and RGB based Version:\n",
    "\n",
    "https://pytorch.org/tutorials/intermediate/reinforcement_q_learning.html"
   ],
   "metadata": {
    "collapsed": false
   }
  },
  {
   "cell_type": "code",
   "execution_count": 47,
   "outputs": [],
   "source": [
    "#Network\n",
    "class DQN(nn.Module):\n",
    "\n",
    "    def __init__(self, h, w, outputs):\n",
    "        super(DQN, self).__init__()\n",
    "        self.conv1 = nn.Conv2d(3, 16, kernel_size=5, stride=2)\n",
    "        self.bn1 = nn.BatchNorm2d(16)\n",
    "        self.conv2 = nn.Conv2d(16, 32, kernel_size=5, stride=2)\n",
    "        self.bn2 = nn.BatchNorm2d(32)\n",
    "        self.conv3 = nn.Conv2d(32, 32, kernel_size=5, stride=2)\n",
    "        self.bn3 = nn.BatchNorm2d(32)\n",
    "\n",
    "        # Number of Linear input connections depends on output of conv2d layers\n",
    "        # and therefore the input image size, so compute it.\n",
    "        def conv2d_size_out(size, kernel_size = 5, stride = 2):\n",
    "            return (size - (kernel_size - 1) - 1) // stride  + 1\n",
    "        convw = conv2d_size_out(conv2d_size_out(conv2d_size_out(w)))\n",
    "        convh = conv2d_size_out(conv2d_size_out(conv2d_size_out(h)))\n",
    "        linear_input_size = convw * convh * 32\n",
    "        self.head = nn.Linear(linear_input_size, outputs)\n",
    "\n",
    "    # Called with either one element to determine next action, or a batch\n",
    "    # during optimization. Returns tensor([[left0exp,right0exp]...]).\n",
    "    def forward(self, x):\n",
    "        x = x.to(device)\n",
    "        x = F.relu(self.bn1(self.conv1(x)))\n",
    "        x = F.relu(self.bn2(self.conv2(x)))\n",
    "        x = F.relu(self.bn3(self.conv3(x)))\n",
    "        return self.head(x.view(x.size(0), -1))"
   ],
   "metadata": {
    "collapsed": false
   }
  },
  {
   "cell_type": "code",
   "execution_count": 48,
   "outputs": [
    {
     "data": {
      "text/plain": "(array([[[0, 0, 0],\n         [0, 0, 0],\n         [0, 0, 0],\n         ...,\n         [0, 0, 0],\n         [0, 0, 0],\n         [0, 0, 0]],\n \n        [[0, 0, 0],\n         [0, 0, 0],\n         [0, 0, 0],\n         ...,\n         [0, 0, 0],\n         [0, 0, 0],\n         [0, 0, 0]],\n \n        [[0, 0, 0],\n         [0, 0, 0],\n         [0, 0, 0],\n         ...,\n         [0, 0, 0],\n         [0, 0, 0],\n         [0, 0, 0]],\n \n        ...,\n \n        [[0, 0, 0],\n         [0, 0, 0],\n         [0, 0, 0],\n         ...,\n         [0, 0, 0],\n         [0, 0, 0],\n         [0, 0, 0]],\n \n        [[0, 0, 0],\n         [0, 0, 0],\n         [0, 0, 0],\n         ...,\n         [0, 0, 0],\n         [0, 0, 0],\n         [0, 0, 0]],\n \n        [[0, 0, 0],\n         [0, 0, 0],\n         [0, 0, 0],\n         ...,\n         [0, 0, 0],\n         [0, 0, 0],\n         [0, 0, 0]]], dtype=uint8),\n {'lives': 0, 'episode_frame_number': 0, 'frame_number': 0})"
     },
     "execution_count": 48,
     "metadata": {},
     "output_type": "execute_result"
    }
   ],
   "source": [
    "env = ClipReward_2(gym.make(\"ALE/Freeway-v5\", difficulty = 1, mode = 0, obs_type = \"rgb\", render_mode = \"rgb_array\"), -10000, 10000)\n",
    "#Enviroment mit Default Frameskip und einen RGB Observationspace als Rückgabe\n",
    "env.reset()\n"
   ],
   "metadata": {
    "collapsed": false
   }
  },
  {
   "cell_type": "code",
   "execution_count": 49,
   "outputs": [
    {
     "name": "stdout",
     "output_type": "stream",
     "text": [
      "False\n"
     ]
    }
   ],
   "source": [
    "# Prüft ob Cuda verfügbar ist\n",
    "device = torch.device(\"cuda\" if torch.cuda.is_available() else \"cpu\")\n",
    "print(torch.cuda.is_available())"
   ],
   "metadata": {
    "collapsed": false
   }
  },
  {
   "cell_type": "code",
   "execution_count": 66,
   "outputs": [
    {
     "name": "stdout",
     "output_type": "stream",
     "text": [
      "1\n"
     ]
    },
    {
     "data": {
      "text/plain": "<Figure size 640x480 with 1 Axes>",
      "image/png": "[encoded data removed]"
     },
     "metadata": {},
     "output_type": "display_data"
    }
   ],
   "source": [
    "#Input Extracton / Transform\n",
    "resize = T.Compose([T.ToPILImage(),\n",
    "                    T.Resize(40, interpolation=T.transforms.InterpolationMode.BILINEAR),\n",
    "                    T.ToTensor()])\n",
    "print(\"1\")\n",
    "\n",
    "\n",
    "def get_Chicken_location():\n",
    "    return int(env.unwrapped.ale.getRAM()[14])  # MIDDLE OF CART\n",
    "\n",
    "def get_screen():\n",
    "    # env.Render übergibt ein RGB-Array\n",
    "    # get_screen() transformiert dieses Array um Performanter zu Trainieren\n",
    "\n",
    "    screen = env.render().transpose((2, 0, 1))\n",
    "    screen = np.ascontiguousarray(screen, dtype=np.float32) / 255\n",
    "    screen = torch.from_numpy(screen)\n",
    "    # CROP image\n",
    "    screen = T.functional.crop(screen, 20,0,175,100)\n",
    "    size_h = T.functional.get_image_size(screen)[0]\n",
    "    player_pos_prozent = (get_Chicken_location() / 175)\n",
    "    #screen = T.functional.crop(screen, (size_h * player_pos_prozent)*100, 0,175,100)\n",
    "\n",
    "    return resize(screen).unsqueeze(0)\n",
    "env.reset()\n",
    "plt.figure()\n",
    "plt.imshow(get_screen().cpu().squeeze(0).permute(1, 2, 0).numpy())\n",
    "plt.title('Test screen')\n",
    "plt.show()"
   ],
   "metadata": {
    "collapsed": false
   }
  },
  {
   "cell_type": "code",
   "execution_count": null,
   "outputs": [],
   "source": [
    "Transition = namedtuple('Transition',\n",
    "                        ('state', 'action', 'next_state', 'reward'))\n",
    "\n",
    "\n",
    "class ReplayMemory(object):\n",
    "\n",
    "    def __init__(self, capacity):\n",
    "        self.memory = deque([],maxlen=capacity)\n",
    "\n",
    "    def push(self, *args):\n",
    "        \"\"\"Save a transition\"\"\"\n",
    "        self.memory.append(Transition(*args))\n",
    "\n",
    "    def sample(self, batch_size):\n",
    "        return random.sample(self.memory, batch_size)\n",
    "\n",
    "    def __len__(self):\n",
    "        return len(self.memory)"
   ],
   "metadata": {
    "collapsed": false
   }
  },
  {
   "cell_type": "code",
   "execution_count": null,
   "outputs": [],
   "source": [
    "#Train\n",
    "BATCH_SIZE = 128\n",
    "GAMMA = 0.999\n",
    "EPS_START = 0.9\n",
    "EPS_END = 0.05\n",
    "EPS_DECAY = 200\n",
    "TARGET_UPDATE = 10\n",
    "\n",
    "# Get screen size so that we can initialize layers correctly based on shape\n",
    "# returned from AI gym. Typical dimensions at this point are close to 3x40x90\n",
    "# which is the result of a clamped and down-scaled render buffer in get_screen()\n",
    "init_screen = get_screen()\n",
    "_, _, screen_height, screen_width = init_screen.shape\n",
    "\n",
    "# Get number of actions from gym action space\n",
    "n_actions = env.action_space.n\n",
    "\n",
    "policy_net = DQN(screen_height, screen_width, n_actions).to(device)\n",
    "target_net = DQN(screen_height, screen_width, n_actions).to(device)\n",
    "target_net.load_state_dict(policy_net.state_dict())\n",
    "target_net.eval()\n",
    "\n",
    "optimizer = optim.RMSprop(policy_net.parameters())\n",
    "memory = ReplayMemory(10000)\n",
    "\n",
    "\n",
    "steps_done = 0\n",
    "\n",
    "\n",
    "def select_action(state):\n",
    "    global steps_done\n",
    "    sample = random.random()\n",
    "    eps_threshold = EPS_END + (EPS_START - EPS_END) * \\\n",
    "        math.exp(-1. * steps_done / EPS_DECAY)\n",
    "    steps_done += 1\n",
    "    if sample > eps_threshold:\n",
    "        with torch.no_grad():\n",
    "            # t.max(1) will return largest column value of each row.\n",
    "            # second column on max result is index of where max element was\n",
    "            # found, so we pick action with the larger expected reward.\n",
    "            return policy_net(state).max(1)[1].view(1, 1)\n",
    "    else:\n",
    "        return torch.tensor([[random.randrange(n_actions)]], device=device, dtype=torch.long)\n",
    "\n",
    "\n",
    "episode_durations = []\n",
    "\n"
   ],
   "metadata": {
    "collapsed": false
   }
  },
  {
   "cell_type": "code",
   "execution_count": null,
   "outputs": [],
   "source": [
    "def optimize_model():\n",
    "    if len(memory) < BATCH_SIZE:\n",
    "        return\n",
    "    transitions = memory.sample(BATCH_SIZE)\n",
    "    # Transpose the batch (see https://stackoverflow.com/a/19343/3343043 for\n",
    "    # detailed explanation). This converts batch-array of Transitions\n",
    "    # to Transition of batch-arrays.\n",
    "    batch = Transition(*zip(*transitions))\n",
    "\n",
    "    # Compute a mask of non-final states and concatenate the batch elements\n",
    "    # (a final state would've been the one after which simulation ended)\n",
    "    non_final_mask = torch.tensor(tuple(map(lambda s: s is not None,\n",
    "                                            batch.next_state)), device=device, dtype=torch.bool)\n",
    "    non_final_next_states = torch.cat([s for s in batch.next_state\n",
    "                                       if s is not None])\n",
    "    state_batch = torch.cat(batch.state)\n",
    "    action_batch = torch.cat(batch.action)\n",
    "    reward_batch = torch.cat(batch.reward)\n",
    "\n",
    "    # Compute Q(s_t, a) - the model computes Q(s_t), then we select the\n",
    "    # columns of actions taken. These are the actions which would've been taken\n",
    "    # for each batch state according to policy_net\n",
    "    state_action_values = policy_net(state_batch).gather(1, action_batch)\n",
    "\n",
    "    # Compute V(s_{t+1}) for all next states.\n",
    "    # Expected values of actions for non_final_next_states are computed based\n",
    "    # on the \"older\" target_net; selecting their best reward with max(1)[0].\n",
    "    # This is merged based on the mask, such that we'll have either the expected\n",
    "    # state value or 0 in case the state was final.\n",
    "    next_state_values = torch.zeros(BATCH_SIZE, device=device)\n",
    "    next_state_values[non_final_mask] = target_net(non_final_next_states).max(1)[0].detach()\n",
    "    # Compute the expected Q values\n",
    "    expected_state_action_values = (next_state_values * GAMMA) + reward_batch\n",
    "\n",
    "    # Compute Huber loss\n",
    "    criterion = nn.SmoothL1Loss()\n",
    "    loss = criterion(state_action_values, expected_state_action_values.unsqueeze(1))\n",
    "\n",
    "    # Optimize the model\n",
    "    optimizer.zero_grad()\n",
    "    loss.backward()\n",
    "    for param in policy_net.parameters():\n",
    "        param.grad.data.clamp_(-1, 1)\n",
    "    optimizer.step()"
   ],
   "metadata": {
    "collapsed": false
   }
  },
  {
   "cell_type": "code",
   "execution_count": null,
   "outputs": [],
   "source": [],
   "metadata": {
    "collapsed": false
   }
  },
  {
   "cell_type": "code",
   "execution_count": null,
   "outputs": [],
   "source": [
    "num_episodes = 0 #Anzahl Trainings durchläufe (50 norm)\n",
    "reward_goal = 10000                 #Reward for reaching the goal\n",
    "reward_crash = -1000                #Reward for colliding with a car\n",
    "reward_l = [1,0]\n",
    "target_l = [1,1]\n",
    "for i_episode in range(num_episodes):\n",
    "    reward_game = 0\n",
    "    # Initialize the environment and state\n",
    "    print(f\"Durchlauf {i_episode} von {num_episodes}\")\n",
    "    env.reset()\n",
    "    last_screen = get_screen()\n",
    "    #print(\"get screen check\")\n",
    "    current_screen = get_screen()\n",
    "    #print(\"get screen check2\")\n",
    "    state = current_screen - last_screen\n",
    "    done = False\n",
    "    count_frames = 0 # count frames of current Episonde (Game)\n",
    "    while not done:\n",
    "        # Select and perform an action\n",
    "        action = select_action(state)\n",
    "        _, reward, done, _, _ = env.step(action.item())\n",
    "        reward_game += reward\n",
    "        #print(done)\n",
    "        reward = torch.tensor([reward], device=device)\n",
    "\n",
    "        # Observe new state\n",
    "        last_screen = current_screen\n",
    "        current_screen = get_screen()\n",
    "        count_frames += 1\n",
    "        #print(\"get screen check3 \" + str(count_frames))\n",
    "        if not done:\n",
    "            next_state = current_screen - last_screen\n",
    "        else:\n",
    "            next_state = None\n",
    "\n",
    "        # Store the transition in memory\n",
    "        memory.push(state, action, next_state, reward)\n",
    "\n",
    "        # Move to the next state\n",
    "        state = next_state\n",
    "\n",
    "        # Perform one step of the optimization (on the policy network)\n",
    "        optimize_model()\n",
    "        if done:\n",
    "            reward_l.append(reward_game)\n",
    "            target_runs = ClipReward_2.get_TargetRuns(env)\n",
    "            target_l.append(target_runs)\n",
    "            ClipReward_2.reset_TargetRuns(env)\n",
    "            #episode_durations.append(count_frames + 1)\n",
    "            #plot_durations()\n",
    "            #break #Bricht training nach einen Durchlauf ab\n",
    "\n",
    "        # Update the target network, copying all weights and biases in DQN\n",
    "        if count_frames % TARGET_UPDATE == 0:\n",
    "            target_net.load_state_dict(policy_net.state_dict())\n",
    "\n",
    "print('Complete')\n",
    "print(reward_l)\n",
    "print(target_l)\n",
    "\n",
    "x = np.arange(0, 2)\n",
    "plt.plot(x, reward_l, label = \"cumulative reward per game\")                          #Cumulative reward per game\n",
    "plt.title(f\"Cumulative reward per game ({num_episodes} games, eps. dec. = , lr = )\")\n",
    "plt.xlabel(\"Game\")\n",
    "plt.ylabel(\"Cumulative reward per game\")\n",
    "plt.legend()\n",
    "plt.grid()\n",
    "plt.show()"
   ],
   "metadata": {
    "collapsed": false
   }
  },
  {
   "cell_type": "code",
   "execution_count": null,
   "outputs": [],
   "source": [],
   "metadata": {
    "collapsed": false
   }
  }
 ],
 "metadata": {
  "kernelspec": {
   "display_name": "Python 3",
   "language": "python",
   "name": "python3"
  },
  "language_info": {
   "codemirror_mode": {
    "name": "ipython",
    "version": 2
   },
   "file_extension": ".py",
   "mimetype": "text/x-python",
   "name": "python",
   "nbconvert_exporter": "python",
   "pygments_lexer": "ipython2",
   "version": "2.7.6"
  }
 },
 "nbformat": 4,
 "nbformat_minor": 0
}
