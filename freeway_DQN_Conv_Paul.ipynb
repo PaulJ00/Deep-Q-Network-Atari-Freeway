{
 "cells": [
  {
   "cell_type": "markdown",
   "source": [
    "# <center> Projekt-Seminar Deep Learing (Prof. Dr. Jörn Hees)\n",
    "\n",
    "## <center> Grupppe: Simon Lausch, Jan Felix Fuchs, Paul Jansen und Tobias Pappen\n",
    "\n",
    "## <center> Deep Reinforcement Learning (Atari Spiel Freeway)\n",
    "\n",
    "## <center> Notebook von Paul Jansen\n",
    "\n"
   ],
   "metadata": {
    "collapsed": false
   }
  },
  {
   "cell_type": "markdown",
   "source": [
    "### Einführung in das Projekt und Notebook\n",
    "\n",
    "Hinweis: Grundlegende informationen und Dokumentation zum Spiel gibt es in der Baseline Dokumentation\n",
    "(https://github.com/TobiasPapen/projektSeminar)\n",
    "\n",
    "Das folgende Notebook beinhaltet ein Deep Q-Learning Modell das auf der Baseline der Dreiergruppe basiert.\n",
    "\n",
    "Abgrenzung zur Baseline:\n",
    "\n",
    "* RGB Observation-Space (Baseline RAM Basiert)\n",
    "\n",
    "* Observation-Space Cropped (Zuschneiden des RGB Bildes)\n",
    "\n",
    "* Convolutional Neuronales Netz\n",
    "\n",
    "\n",
    "\n",
    "Quellen:\n",
    "* https://pytorch.org/tutorials/intermediate/reinforcement_q_learning.html"
   ],
   "metadata": {
    "collapsed": false
   }
  },
  {
   "cell_type": "markdown",
   "source": [
    "%pip install gym[atari]\n",
    "%pip install ale_py\n",
    "%pip install autorom[accept-rom-license]\n",
    "%pip install torch\n",
    "%pip install gym[box2d]\n",
    "%pip install torchvision\n",
    "%pip install matplotlib"
   ],
   "metadata": {
    "collapsed": false
   }
  },
  {
   "cell_type": "code",
   "execution_count": 1,
   "outputs": [],
   "source": [
    "import gym\n",
    "import math\n",
    "import random\n",
    "import numpy as np\n",
    "from collections import namedtuple, deque\n",
    "from itertools import count\n",
    "from PIL import Image\n",
    "\n",
    "import torch\n",
    "import torch.nn as nn\n",
    "import torch.optim as optim\n",
    "import torch.nn.functional as F\n",
    "import torchvision.transforms as T\n",
    "\n",
    "\n",
    "import matplotlib\n",
    "import numpy as np\n",
    "import matplotlib.pyplot as plt"
   ],
   "metadata": {
    "collapsed": false
   }
  },
  {
   "cell_type": "code",
   "execution_count": 2,
   "outputs": [],
   "source": [
    "class ClipReward_2(gym.RewardWrapper):\n",
    "    #Method to initialize the updated reward function\n",
    "    def __init__(self, env, min_reward, max_reward):\n",
    "        #Inheritance: calling construtor of the super class\n",
    "        super().__init__(env)\n",
    "\n",
    "        #Saving the given parameters\n",
    "        self.pre_pos = 6                                    #previous position of the chicken (lowest value = 6)\n",
    "        self.min_reward = min_reward                        #minimum reward\n",
    "        self.max_reward = max_reward                        #maximum reward\n",
    "        self.reward_range = (min_reward, max_reward)        #range of the reward\n",
    "        self.target_runs = 0                                #number of target runs\n",
    "\n",
    "    #Method to calculate the reward\n",
    "    def reward(self, reward):\n",
    "        #Recieving the RAM\n",
    "        ram = env.unwrapped.ale.getRAM()\n",
    "        #Saving the current position and the cooldown value of the chicken\n",
    "        #The cooldown value is not zero if the chicken got hit, was reset and now needs to wait for a short time\n",
    "        current_pos = ram[14]\n",
    "        cooldown = ram[106]\n",
    "\n",
    "        if(current_pos >= 175):\n",
    "            #Chicken reaches the goal\n",
    "            reward = reward_goal\n",
    "            self.target_runs += 1\n",
    "        elif(self.pre_pos > 6 and (not cooldown == 0)):\n",
    "            #Chicken collides with a car (reset)\n",
    "            #By checking the cooldown value we are making sure that the we detect a \"false\" collision\n",
    "            #Otherwise the agent would get a negative reward for moving forwards and then immediately backwards)\n",
    "            reward = reward_crash\n",
    "        #Chicken recieves a reward connected to its current position on the road (independent from crash or goal)\n",
    "        reward += current_pos - (500 / current_pos)\n",
    "\n",
    "        #Getting new previous position\n",
    "        self.pre_pos = current_pos\n",
    "        #Returning reward\n",
    "        return np.clip(reward, self.min_reward, self.max_reward)\n",
    "\n",
    "    #Method to recieve the number target runs\n",
    "    def get_TargetRuns(self):\n",
    "        return self.target_runs\n",
    "\n",
    "    #Method to reset the number of target runs\n",
    "    def reset_TargetRuns(self):\n",
    "        self.target_runs = 0"
   ],
   "metadata": {
    "collapsed": false
   }
  },
  {
   "cell_type": "markdown",
   "source": [
    "Convolutional Neural Network and RGB based Version:\n",
    "\n",
    "https://pytorch.org/tutorials/intermediate/reinforcement_q_learning.html"
   ],
   "metadata": {
    "collapsed": false
   }
  },
  {
   "cell_type": "code",
   "execution_count": 3,
   "outputs": [],
   "source": [
    "#Network\n",
    "class DQN(nn.Module):\n",
    "\n",
    "    def __init__(self, h, w, outputs):\n",
    "        super(DQN, self).__init__()\n",
    "        self.conv1 = nn.Conv2d(3, 16, kernel_size=5, stride=2)\n",
    "        self.bn1 = nn.BatchNorm2d(16)\n",
    "        self.conv2 = nn.Conv2d(16, 32, kernel_size=5, stride=2)\n",
    "        self.bn2 = nn.BatchNorm2d(32)\n",
    "        self.conv3 = nn.Conv2d(32, 32, kernel_size=5, stride=2)\n",
    "        self.bn3 = nn.BatchNorm2d(32)\n",
    "\n",
    "        # Number of Linear input connections depends on output of conv2d layers\n",
    "        # and therefore the input image size, so compute it.\n",
    "        def conv2d_size_out(size, kernel_size = 5, stride = 2):\n",
    "            return (size - (kernel_size - 1) - 1) // stride  + 1\n",
    "        convw = conv2d_size_out(conv2d_size_out(conv2d_size_out(w)))\n",
    "        convh = conv2d_size_out(conv2d_size_out(conv2d_size_out(h)))\n",
    "        linear_input_size = convw * convh * 32\n",
    "        self.head = nn.Linear(linear_input_size, outputs)\n",
    "\n",
    "    # Called with either one element to determine next action, or a batch\n",
    "    # during optimization. Returns tensor([[left0exp,right0exp]...]).\n",
    "    def forward(self, x):\n",
    "        x = x.to(device)\n",
    "        x = F.relu(self.bn1(self.conv1(x)))\n",
    "        x = F.relu(self.bn2(self.conv2(x)))\n",
    "        x = F.relu(self.bn3(self.conv3(x)))\n",
    "        return self.head(x.view(x.size(0), -1))"
   ],
   "metadata": {
    "collapsed": false
   }
  },
  {
   "cell_type": "code",
   "execution_count": 4,
   "outputs": [
    {
     "data": {
      "text/plain": "(array([[[0, 0, 0],\n         [0, 0, 0],\n         [0, 0, 0],\n         ...,\n         [0, 0, 0],\n         [0, 0, 0],\n         [0, 0, 0]],\n \n        [[0, 0, 0],\n         [0, 0, 0],\n         [0, 0, 0],\n         ...,\n         [0, 0, 0],\n         [0, 0, 0],\n         [0, 0, 0]],\n \n        [[0, 0, 0],\n         [0, 0, 0],\n         [0, 0, 0],\n         ...,\n         [0, 0, 0],\n         [0, 0, 0],\n         [0, 0, 0]],\n \n        ...,\n \n        [[0, 0, 0],\n         [0, 0, 0],\n         [0, 0, 0],\n         ...,\n         [0, 0, 0],\n         [0, 0, 0],\n         [0, 0, 0]],\n \n        [[0, 0, 0],\n         [0, 0, 0],\n         [0, 0, 0],\n         ...,\n         [0, 0, 0],\n         [0, 0, 0],\n         [0, 0, 0]],\n \n        [[0, 0, 0],\n         [0, 0, 0],\n         [0, 0, 0],\n         ...,\n         [0, 0, 0],\n         [0, 0, 0],\n         [0, 0, 0]]], dtype=uint8),\n {'lives': 0, 'episode_frame_number': 0, 'frame_number': 0})"
     },
     "execution_count": 4,
     "metadata": {},
     "output_type": "execute_result"
    }
   ],
   "source": [
    "env = ClipReward_2(gym.make(\"ALE/Freeway-v5\", difficulty = 1, mode = 0, obs_type = \"rgb\", render_mode = \"rgb_array\"), -10000, 10000)\n",
    "#Enviroment mit Default Frameskip und einen RGB Observationspace als Rückgabe\n",
    "env.reset()\n"
   ],
   "metadata": {
    "collapsed": false
   }
  },
  {
   "cell_type": "code",
   "execution_count": 5,
   "outputs": [
    {
     "name": "stdout",
     "output_type": "stream",
     "text": [
      "True\n"
     ]
    }
   ],
   "source": [
    "# Prüft ob Cuda verfügbar ist\n",
    "device = torch.device(\"cuda\" if torch.cuda.is_available() else \"cpu\")\n",
    "print(torch.cuda.is_available())"
   ],
   "metadata": {
    "collapsed": false
   }
  },
  {
   "cell_type": "code",
   "execution_count": 6,
   "outputs": [
    {
     "name": "stdout",
     "output_type": "stream",
     "text": [
      "1\n"
     ]
    },
    {
     "data": {
      "text/plain": "(array([[[0, 0, 0],\n         [0, 0, 0],\n         [0, 0, 0],\n         ...,\n         [0, 0, 0],\n         [0, 0, 0],\n         [0, 0, 0]],\n \n        [[0, 0, 0],\n         [0, 0, 0],\n         [0, 0, 0],\n         ...,\n         [0, 0, 0],\n         [0, 0, 0],\n         [0, 0, 0]],\n \n        [[0, 0, 0],\n         [0, 0, 0],\n         [0, 0, 0],\n         ...,\n         [0, 0, 0],\n         [0, 0, 0],\n         [0, 0, 0]],\n \n        ...,\n \n        [[0, 0, 0],\n         [0, 0, 0],\n         [0, 0, 0],\n         ...,\n         [0, 0, 0],\n         [0, 0, 0],\n         [0, 0, 0]],\n \n        [[0, 0, 0],\n         [0, 0, 0],\n         [0, 0, 0],\n         ...,\n         [0, 0, 0],\n         [0, 0, 0],\n         [0, 0, 0]],\n \n        [[0, 0, 0],\n         [0, 0, 0],\n         [0, 0, 0],\n         ...,\n         [0, 0, 0],\n         [0, 0, 0],\n         [0, 0, 0]]], dtype=uint8),\n {'lives': 0, 'episode_frame_number': 0, 'frame_number': 0})"
     },
     "execution_count": 6,
     "metadata": {},
     "output_type": "execute_result"
    }
   ],
   "source": [
    "#Input Extracton / Transform\n",
    "resize = T.Compose([T.ToPILImage(),\n",
    "                    T.Resize(40, interpolation=T.transforms.InterpolationMode.BILINEAR),\n",
    "                    T.ToTensor()])\n",
    "print(\"1\")\n",
    "\n",
    "\n",
    "def get_Chicken_location():\n",
    "    return int(env.unwrapped.ale.getRAM()[14])  # MIDDLE OF CART\n",
    "\n",
    "def get_screen():\n",
    "    # env.Render übergibt ein RGB-Array\n",
    "    # get_screen() transformiert dieses Array um Performanter zu Trainieren\n",
    "\n",
    "    screen = env.render().transpose((2, 0, 1))\n",
    "    screen = np.ascontiguousarray(screen, dtype=np.float32) / 255\n",
    "    screen = torch.from_numpy(screen)\n",
    "    # CROP image\n",
    "    screen = T.functional.crop(screen, 20,0,175,100)\n",
    "    size_h = T.functional.get_image_size(screen)[0]\n",
    "    player_pos_prozent = (get_Chicken_location() / 175)\n",
    "    #screen = T.functional.crop(screen, (size_h * player_pos_prozent)*100, 0,175,100)\n",
    "\n",
    "    return resize(screen).unsqueeze(0)\n",
    "env.reset()\n",
    "#plt.figure()\n",
    "#plt.imshow(get_screen().cpu().squeeze(0).permute(1, 2, 0).numpy())\n",
    "#plt.title('Test screen')\n",
    "#plt.show()"
   ],
   "metadata": {
    "collapsed": false
   }
  },
  {
   "cell_type": "code",
   "execution_count": 7,
   "outputs": [],
   "source": [
    "Transition = namedtuple('Transition',\n",
    "                        ('state', 'action', 'next_state', 'reward'))\n",
    "\n",
    "\n",
    "class ReplayMemory(object):\n",
    "\n",
    "    def __init__(self, capacity):\n",
    "        self.memory = deque([],maxlen=capacity)\n",
    "\n",
    "    def push(self, *args):\n",
    "        \"\"\"Save a transition\"\"\"\n",
    "        self.memory.append(Transition(*args))\n",
    "\n",
    "    def sample(self, batch_size):\n",
    "        return random.sample(self.memory, batch_size)\n",
    "\n",
    "    def __len__(self):\n",
    "        return len(self.memory)"
   ],
   "metadata": {
    "collapsed": false
   }
  },
  {
   "cell_type": "code",
   "execution_count": 8,
   "outputs": [
    {
     "name": "stderr",
     "output_type": "stream",
     "text": [
      "C:\\Users\\Paul\\anaconda3\\lib\\site-packages\\gym\\utils\\passive_env_checker.py:289: UserWarning: \u001B[33mWARN: No render fps was declared in the environment (env.metadata['render_fps'] is None or not defined), rendering may occur at inconsistent fps.\u001B[0m\n",
      "  logger.warn(\n"
     ]
    }
   ],
   "source": [
    "BATCH_SIZE = 128\n",
    "GAMMA = 0.999\n",
    "Epsilon = 1\n",
    "EPS_END = 0.05\n",
    "EPS_DEC = 0.009\n",
    "TARGET_UPDATE = 10\n",
    "eps_l_1 = []\n",
    "\n",
    "init_screen = get_screen()\n",
    "_, _, screen_height, screen_width = init_screen.shape\n",
    "\n",
    "# Get number of actions from gym action space\n",
    "n_actions = env.action_space.n\n",
    "\n",
    "policy_net = DQN(screen_height, screen_width, n_actions).to(device)\n",
    "target_net = DQN(screen_height, screen_width, n_actions).to(device)\n",
    "target_net.load_state_dict(policy_net.state_dict())\n",
    "target_net.eval()\n",
    "\n",
    "optimizer = optim.RMSprop(policy_net.parameters())\n",
    "memory = ReplayMemory(10000)\n",
    "\n",
    "\n",
    "steps_done = 0\n",
    "\n",
    "\n",
    "def select_action(state):\n",
    "    global steps_done\n",
    "    sample = random.random()\n",
    "    steps_done += 1\n",
    "    if sample > Epsilon:\n",
    "        with torch.no_grad():\n",
    "            # t.max(1) will return largest column value of each row.\n",
    "            # second column on max result is index of where max element was\n",
    "            # found, so we pick action with the larger expected reward.\n",
    "            return policy_net(state).max(1)[1].view(1, 1)\n",
    "    else:\n",
    "        return torch.tensor([[random.randrange(n_actions)]], device=device, dtype=torch.long)\n",
    "\n",
    "\n",
    "episode_durations = []\n",
    "\n",
    "def get_eps():\n",
    "    return eps_l_1\n",
    "\n",
    "def eps_dec_f():\n",
    "    global Epsilon\n",
    "    if Epsilon > EPS_END:\n",
    "        Epsilon = Epsilon - EPS_DEC\n",
    "    eps_l_1.append(Epsilon)\n"
   ],
   "metadata": {
    "collapsed": false
   }
  },
  {
   "cell_type": "code",
   "execution_count": 9,
   "outputs": [],
   "source": [
    "def optimize_model():\n",
    "    if len(memory) < BATCH_SIZE:\n",
    "        return\n",
    "    transitions = memory.sample(BATCH_SIZE)\n",
    "    # Transpose the batch (see https://stackoverflow.com/a/19343/3343043 for\n",
    "    # detailed explanation). This converts batch-array of Transitions\n",
    "    # to Transition of batch-arrays.\n",
    "    batch = Transition(*zip(*transitions))\n",
    "\n",
    "    # Compute a mask of non-final states and concatenate the batch elements\n",
    "    # (a final state would've been the one after which simulation ended)\n",
    "    non_final_mask = torch.tensor(tuple(map(lambda s: s is not None,\n",
    "                                            batch.next_state)), device=device, dtype=torch.bool)\n",
    "    non_final_next_states = torch.cat([s for s in batch.next_state\n",
    "                                       if s is not None])\n",
    "    state_batch = torch.cat(batch.state)\n",
    "    action_batch = torch.cat(batch.action)\n",
    "    reward_batch = torch.cat(batch.reward)\n",
    "\n",
    "    # Compute Q(s_t, a) - the model computes Q(s_t), then we select the\n",
    "    # columns of actions taken. These are the actions which would've been taken\n",
    "    # for each batch state according to policy_net\n",
    "    state_action_values = policy_net(state_batch).gather(1, action_batch)\n",
    "\n",
    "    # Compute V(s_{t+1}) for all next states.\n",
    "    # Expected values of actions for non_final_next_states are computed based\n",
    "    # on the \"older\" target_net; selecting their best reward with max(1)[0].\n",
    "    # This is merged based on the mask, such that we'll have either the expected\n",
    "    # state value or 0 in case the state was final.\n",
    "    next_state_values = torch.zeros(BATCH_SIZE, device=device)\n",
    "    next_state_values[non_final_mask] = target_net(non_final_next_states).max(1)[0].detach()\n",
    "    # Compute the expected Q values\n",
    "    expected_state_action_values = (next_state_values * GAMMA) + reward_batch\n",
    "\n",
    "    # Compute Huber loss\n",
    "    criterion = nn.SmoothL1Loss()\n",
    "    loss = criterion(state_action_values, expected_state_action_values.unsqueeze(1))\n",
    "\n",
    "    # Optimize the model\n",
    "    optimizer.zero_grad()\n",
    "    loss.backward()\n",
    "    for param in policy_net.parameters():\n",
    "        param.grad.data.clamp_(-1, 1)\n",
    "    optimizer.step()"
   ],
   "metadata": {
    "collapsed": false
   }
  },
  {
   "cell_type": "code",
   "execution_count": null,
   "outputs": [
    {
     "name": "stdout",
     "output_type": "stream",
     "text": [
      "Durchlauf 0 von 150\n",
      "Durchlauf 1 von 150\n",
      "Durchlauf 2 von 150\n",
      "Durchlauf 3 von 150\n",
      "Durchlauf 4 von 150\n",
      "Durchlauf 5 von 150\n",
      "Durchlauf 6 von 150\n",
      "Durchlauf 7 von 150\n",
      "Durchlauf 8 von 150\n",
      "Durchlauf 9 von 150\n",
      "Durchlauf 10 von 150\n",
      "Durchlauf 11 von 150\n",
      "Durchlauf 12 von 150\n",
      "Durchlauf 13 von 150\n",
      "Durchlauf 14 von 150\n",
      "Durchlauf 15 von 150\n",
      "Durchlauf 16 von 150\n",
      "Durchlauf 17 von 150\n",
      "Durchlauf 18 von 150\n",
      "Durchlauf 19 von 150\n",
      "Durchlauf 20 von 150\n",
      "Durchlauf 21 von 150\n",
      "Durchlauf 22 von 150\n",
      "Durchlauf 23 von 150\n",
      "Durchlauf 24 von 150\n",
      "Durchlauf 25 von 150\n",
      "Durchlauf 26 von 150\n",
      "Durchlauf 27 von 150\n",
      "Durchlauf 28 von 150\n",
      "Durchlauf 29 von 150\n",
      "Durchlauf 30 von 150\n",
      "Durchlauf 31 von 150\n",
      "Durchlauf 32 von 150\n",
      "Durchlauf 33 von 150\n",
      "Durchlauf 34 von 150\n",
      "Durchlauf 35 von 150\n",
      "Durchlauf 36 von 150\n",
      "Durchlauf 37 von 150\n",
      "Durchlauf 38 von 150\n",
      "Durchlauf 39 von 150\n",
      "Durchlauf 40 von 150\n",
      "Durchlauf 41 von 150\n",
      "Durchlauf 42 von 150\n",
      "Durchlauf 43 von 150\n",
      "Durchlauf 44 von 150\n",
      "Durchlauf 45 von 150\n",
      "Durchlauf 46 von 150\n",
      "Durchlauf 47 von 150\n",
      "Durchlauf 48 von 150\n",
      "Durchlauf 49 von 150\n",
      "Durchlauf 50 von 150\n",
      "Durchlauf 51 von 150\n",
      "Durchlauf 52 von 150\n",
      "Durchlauf 53 von 150\n",
      "Durchlauf 54 von 150\n",
      "Durchlauf 55 von 150\n",
      "Durchlauf 56 von 150\n",
      "Durchlauf 57 von 150\n",
      "Durchlauf 58 von 150\n",
      "Durchlauf 59 von 150\n",
      "Durchlauf 60 von 150\n",
      "Durchlauf 61 von 150\n",
      "Durchlauf 62 von 150\n",
      "Durchlauf 63 von 150\n",
      "Durchlauf 64 von 150\n",
      "Durchlauf 65 von 150\n",
      "Durchlauf 66 von 150\n",
      "Durchlauf 67 von 150\n",
      "Durchlauf 68 von 150\n",
      "Durchlauf 69 von 150\n",
      "Durchlauf 70 von 150\n",
      "Durchlauf 71 von 150\n",
      "Durchlauf 72 von 150\n",
      "Durchlauf 73 von 150\n",
      "Durchlauf 74 von 150\n",
      "Durchlauf 75 von 150\n",
      "Durchlauf 76 von 150\n",
      "Durchlauf 77 von 150\n",
      "Durchlauf 78 von 150\n",
      "Durchlauf 79 von 150\n",
      "Durchlauf 80 von 150\n",
      "Durchlauf 81 von 150\n",
      "Durchlauf 82 von 150\n",
      "Durchlauf 83 von 150\n",
      "Durchlauf 84 von 150\n",
      "Durchlauf 85 von 150\n",
      "Durchlauf 86 von 150\n",
      "Durchlauf 87 von 150\n",
      "Durchlauf 88 von 150\n",
      "Durchlauf 89 von 150\n",
      "Durchlauf 90 von 150\n",
      "Durchlauf 91 von 150\n",
      "Durchlauf 92 von 150\n",
      "Durchlauf 93 von 150\n",
      "Durchlauf 94 von 150\n",
      "Durchlauf 95 von 150\n",
      "Durchlauf 96 von 150\n",
      "Durchlauf 97 von 150\n",
      "Durchlauf 98 von 150\n",
      "Durchlauf 99 von 150\n",
      "Durchlauf 100 von 150\n",
      "Durchlauf 101 von 150\n",
      "Durchlauf 102 von 150\n",
      "Durchlauf 103 von 150\n",
      "Durchlauf 104 von 150\n",
      "Durchlauf 105 von 150\n",
      "Durchlauf 106 von 150\n",
      "Durchlauf 107 von 150\n",
      "Durchlauf 108 von 150\n",
      "Durchlauf 109 von 150\n",
      "Durchlauf 110 von 150\n",
      "Durchlauf 111 von 150\n",
      "Durchlauf 112 von 150\n",
      "Durchlauf 113 von 150\n",
      "Durchlauf 114 von 150\n",
      "Durchlauf 115 von 150\n",
      "Durchlauf 116 von 150\n",
      "Durchlauf 117 von 150\n",
      "Durchlauf 118 von 150\n",
      "Durchlauf 119 von 150\n",
      "Durchlauf 120 von 150\n",
      "Durchlauf 121 von 150\n",
      "Durchlauf 122 von 150\n",
      "Durchlauf 123 von 150\n",
      "Durchlauf 124 von 150\n",
      "Durchlauf 125 von 150\n",
      "Durchlauf 126 von 150\n",
      "Durchlauf 127 von 150\n",
      "Durchlauf 128 von 150\n",
      "Durchlauf 129 von 150\n",
      "Durchlauf 130 von 150\n",
      "Durchlauf 131 von 150\n",
      "Durchlauf 132 von 150\n",
      "Durchlauf 133 von 150\n",
      "Durchlauf 134 von 150\n",
      "Durchlauf 135 von 150\n",
      "Durchlauf 136 von 150\n",
      "Durchlauf 137 von 150\n",
      "Durchlauf 138 von 150\n",
      "Durchlauf 139 von 150\n",
      "Durchlauf 140 von 150\n",
      "Durchlauf 141 von 150\n",
      "Durchlauf 142 von 150\n",
      "Durchlauf 143 von 150\n",
      "Durchlauf 144 von 150\n",
      "Durchlauf 145 von 150\n",
      "Durchlauf 146 von 150\n",
      "Durchlauf 147 von 150\n",
      "Durchlauf 148 von 150\n",
      "Durchlauf 149 von 150\n",
      "Complete\n",
      "[-46305.99482831709, -53164.60264063564, -62508.255507721355, -39433.86466359415, -50607.81764436985, -48027.591697575044, -61005.863692589126, -41924.75343804736, -72455.6952741279, -54400.20510057123, -70144.64224048653, -64432.54540610039, -60111.056646895195, -84388.58174732653, -69594.58087369146, -69485.20675694238, -47049.190128195085, -65032.041011673595, -64540.68686896858, -43536.13805123844, -53751.08015706992, -8567.0772642266, -76465.25867023134, -67187.64997072947, -46382.09191746007, -56355.11832584178, -57430.588654878185, -70201.34130346777, -33902.347653592005, -58515.10829029944, -64104.788926747526, -52167.35818798453, -60159.84542944782, -47865.800824532496, -81482.7300096771, -92304.39111233971, -71849.03677610471, -30639.294463452257, -75898.61166679703, -75669.52132375883, -24936.83887375382, -4729.6936607623575, -47219.836248285326, -73056.85369527062, -73500.04851848172, 44212.05407140541, -78825.14633954462, -72354.58757081525, -83743.75785701004, -99227.51300992981, -52633.853797244956, -60404.86876251796, -81190.84475176664, -68838.51987998714, 5599.343909933368, 50053.26123444128, -59766.41220063686, -47168.06510407441, -91966.98949209932, 276.38349193339434, 1892.792430929578, -51714.729888437076, -42369.38727617858, -3390.9521963391444, -28064.31121300446, -29550.3741459102, -31379.21670786996, 5666.540233416593, -1981.897292422796, 25561.66135155996, -44228.23864410941, -43744.452976951696, 99137.88785726274, -75953.08461974423, -4802.035610206806, -12545.093287837055, 5492.554596161454, -60445.02134465606, -39054.799905557804, -55034.518357100926, -44215.31468378128, -64519.815178263016, 11032.293983574078, -72940.75167695766, -41598.81992588817, -67418.8867910932, -109307.48739094108, -58863.47759119179, -109881.47506702536, -71320.9505210556, -48757.07433403922, -9578.413551322476, -34175.63593572353, -89167.81914523877, -53811.452404417076, -131353.1757618184, -113777.83187585935, -118122.90718836998, -71707.08865431488, -92455.60714001904, -57665.66627863912, -57503.41565986795, -33064.401000657796, 23463.607565189308, -8513.903669676682, 30552.570597341193, 20487.540922444, 15772.624073424184, 118126.858576995, 52484.57425354201, 25500.766148003637, -8374.492397628066, 25838.244019157515, -18054.372421871998, 35481.299675016395, 7571.084800313524, 74746.04523655945, 714.6813633704209, 6080.885899035177, 95929.27968919335, 23434.822091607108, 22873.119872794843, -53371.055620040184, 90465.9611953468, 11801.830320743402, 9208.499576862847, 47613.75560257946, 17323.31976785847, 34225.044285070035, -12252.841525677719, -78949.30046887985, 30612.132823655964, 28357.051603099288, 98028.73911910166, 81779.88709581857, -2527.4830191448327, 19295.94566443301, 47965.99467961297, -30895.05531990578, 52158.888860884595, -23524.635975790283, 39998.36802878002, 159931.97954664644, 47793.40242525954, 40611.71260904171, 85028.08785452481, 33868.887535714886, 34649.98613684093, 58370.69346684657, 14110.187301850081]\n",
      "[0, 0, 0, 0, 0, 0, 0, 0, 0, 0, 0, 0, 0, 0, 0, 0, 0, 0, 0, 0, 0, 3, 0, 0, 0, 0, 0, 0, 0, 0, 0, 0, 0, 0, 0, 0, 0, 1, 0, 0, 2, 2, 0, 0, 0, 4, 0, 0, 0, 0, 0, 0, 0, 2, 2, 8, 0, 0, 0, 4, 2, 0, 1, 2, 0, 0, 0, 3, 2, 2, 1, 0, 11, 0, 4, 4, 5, 0, 2, 1, 1, 0, 2, 0, 0, 0, 0, 0, 0, 0, 0, 2, 0, 0, 0, 0, 0, 0, 0, 0, 0, 0, 1, 5, 1, 4, 4, 4, 13, 6, 7, 3, 6, 3, 7, 4, 9, 3, 3, 11, 7, 5, 2, 12, 5, 4, 6, 5, 5, 3, 0, 6, 5, 11, 9, 3, 4, 7, 1, 8, 2, 4, 14, 8, 4, 11, 6, 5, 8, 4]\n",
      "[0.991, 0.982, 0.973, 0.964, 0.955, 0.946, 0.9369999999999999, 0.9279999999999999, 0.9189999999999999, 0.9099999999999999, 0.9009999999999999, 0.8919999999999999, 0.8829999999999999, 0.8739999999999999, 0.8649999999999999, 0.8559999999999999, 0.8469999999999999, 0.8379999999999999, 0.8289999999999998, 0.8199999999999998, 0.8109999999999998, 0.8019999999999998, 0.7929999999999998, 0.7839999999999998, 0.7749999999999998, 0.7659999999999998, 0.7569999999999998, 0.7479999999999998, 0.7389999999999998, 0.7299999999999998, 0.7209999999999998, 0.7119999999999997, 0.7029999999999997, 0.6939999999999997, 0.6849999999999997, 0.6759999999999997, 0.6669999999999997, 0.6579999999999997, 0.6489999999999997, 0.6399999999999997, 0.6309999999999997, 0.6219999999999997, 0.6129999999999997, 0.6039999999999996, 0.5949999999999996, 0.5859999999999996, 0.5769999999999996, 0.5679999999999996, 0.5589999999999996, 0.5499999999999996, 0.5409999999999996, 0.5319999999999996, 0.5229999999999996, 0.5139999999999996, 0.5049999999999996, 0.49599999999999955, 0.48699999999999954, 0.47799999999999954, 0.46899999999999953, 0.4599999999999995, 0.4509999999999995, 0.4419999999999995, 0.4329999999999995, 0.4239999999999995, 0.4149999999999995, 0.4059999999999995, 0.39699999999999946, 0.38799999999999946, 0.37899999999999945, 0.36999999999999944, 0.36099999999999943, 0.3519999999999994, 0.3429999999999994, 0.3339999999999994, 0.3249999999999994, 0.3159999999999994, 0.3069999999999994, 0.2979999999999994, 0.28899999999999937, 0.27999999999999936, 0.27099999999999935, 0.26199999999999934, 0.25299999999999934, 0.24399999999999933, 0.23499999999999932, 0.2259999999999993, 0.2169999999999993, 0.2079999999999993, 0.1989999999999993, 0.18999999999999928, 0.18099999999999927, 0.17199999999999926, 0.16299999999999926, 0.15399999999999925, 0.14499999999999924, 0.13599999999999923, 0.12699999999999922, 0.11799999999999923, 0.10899999999999924, 0.09999999999999924, 0.09099999999999925, 0.08199999999999925, 0.07299999999999926, 0.06399999999999927, 0.054999999999999265, 0.045999999999999264, 0.045999999999999264, 0.045999999999999264, 0.045999999999999264, 0.045999999999999264, 0.045999999999999264, 0.045999999999999264, 0.045999999999999264, 0.045999999999999264, 0.045999999999999264, 0.045999999999999264, 0.045999999999999264, 0.045999999999999264, 0.045999999999999264, 0.045999999999999264, 0.045999999999999264, 0.045999999999999264, 0.045999999999999264, 0.045999999999999264, 0.045999999999999264, 0.045999999999999264, 0.045999999999999264, 0.045999999999999264, 0.045999999999999264, 0.045999999999999264, 0.045999999999999264, 0.045999999999999264, 0.045999999999999264, 0.045999999999999264, 0.045999999999999264, 0.045999999999999264, 0.045999999999999264, 0.045999999999999264, 0.045999999999999264, 0.045999999999999264, 0.045999999999999264, 0.045999999999999264, 0.045999999999999264, 0.045999999999999264, 0.045999999999999264, 0.045999999999999264, 0.045999999999999264, 0.045999999999999264, 0.045999999999999264, 0.045999999999999264]\n"
     ]
    },
    {
     "ename": "ValueError",
     "evalue": "x and y must have same first dimension, but have shapes (2,) and (150,)",
     "output_type": "error",
     "traceback": [
      "\u001B[1;31m---------------------------------------------------------------------------\u001B[0m",
      "\u001B[1;31mValueError\u001B[0m                                Traceback (most recent call last)",
      "Cell \u001B[1;32mIn[10], line 65\u001B[0m\n\u001B[0;32m     62\u001B[0m \u001B[38;5;28mprint\u001B[39m(get_eps())\n\u001B[0;32m     64\u001B[0m x \u001B[38;5;241m=\u001B[39m np\u001B[38;5;241m.\u001B[39marange(\u001B[38;5;241m0\u001B[39m, \u001B[38;5;241m2\u001B[39m)\n\u001B[1;32m---> 65\u001B[0m \u001B[43mplt\u001B[49m\u001B[38;5;241;43m.\u001B[39;49m\u001B[43mplot\u001B[49m\u001B[43m(\u001B[49m\u001B[43mx\u001B[49m\u001B[43m,\u001B[49m\u001B[43m \u001B[49m\u001B[43mreward_l\u001B[49m\u001B[43m,\u001B[49m\u001B[43m \u001B[49m\u001B[43mlabel\u001B[49m\u001B[43m \u001B[49m\u001B[38;5;241;43m=\u001B[39;49m\u001B[43m \u001B[49m\u001B[38;5;124;43m\"\u001B[39;49m\u001B[38;5;124;43mcumulative reward per game\u001B[39;49m\u001B[38;5;124;43m\"\u001B[39;49m\u001B[43m)\u001B[49m                          \u001B[38;5;66;03m#Cumulative reward per game\u001B[39;00m\n\u001B[0;32m     66\u001B[0m plt\u001B[38;5;241m.\u001B[39mtitle(\u001B[38;5;124mf\u001B[39m\u001B[38;5;124m\"\u001B[39m\u001B[38;5;124mCumulative reward per game (\u001B[39m\u001B[38;5;132;01m{\u001B[39;00mnum_episodes\u001B[38;5;132;01m}\u001B[39;00m\u001B[38;5;124m games, eps. dec. = , lr = )\u001B[39m\u001B[38;5;124m\"\u001B[39m)\n\u001B[0;32m     67\u001B[0m plt\u001B[38;5;241m.\u001B[39mxlabel(\u001B[38;5;124m\"\u001B[39m\u001B[38;5;124mGame\u001B[39m\u001B[38;5;124m\"\u001B[39m)\n",
      "File \u001B[1;32m~\\anaconda3\\lib\\site-packages\\matplotlib\\pyplot.py:2740\u001B[0m, in \u001B[0;36mplot\u001B[1;34m(scalex, scaley, data, *args, **kwargs)\u001B[0m\n\u001B[0;32m   2738\u001B[0m \u001B[38;5;129m@_copy_docstring_and_deprecators\u001B[39m(Axes\u001B[38;5;241m.\u001B[39mplot)\n\u001B[0;32m   2739\u001B[0m \u001B[38;5;28;01mdef\u001B[39;00m \u001B[38;5;21mplot\u001B[39m(\u001B[38;5;241m*\u001B[39margs, scalex\u001B[38;5;241m=\u001B[39m\u001B[38;5;28;01mTrue\u001B[39;00m, scaley\u001B[38;5;241m=\u001B[39m\u001B[38;5;28;01mTrue\u001B[39;00m, data\u001B[38;5;241m=\u001B[39m\u001B[38;5;28;01mNone\u001B[39;00m, \u001B[38;5;241m*\u001B[39m\u001B[38;5;241m*\u001B[39mkwargs):\n\u001B[1;32m-> 2740\u001B[0m     \u001B[38;5;28;01mreturn\u001B[39;00m gca()\u001B[38;5;241m.\u001B[39mplot(\n\u001B[0;32m   2741\u001B[0m         \u001B[38;5;241m*\u001B[39margs, scalex\u001B[38;5;241m=\u001B[39mscalex, scaley\u001B[38;5;241m=\u001B[39mscaley,\n\u001B[0;32m   2742\u001B[0m         \u001B[38;5;241m*\u001B[39m\u001B[38;5;241m*\u001B[39m({\u001B[38;5;124m\"\u001B[39m\u001B[38;5;124mdata\u001B[39m\u001B[38;5;124m\"\u001B[39m: data} \u001B[38;5;28;01mif\u001B[39;00m data \u001B[38;5;129;01mis\u001B[39;00m \u001B[38;5;129;01mnot\u001B[39;00m \u001B[38;5;28;01mNone\u001B[39;00m \u001B[38;5;28;01melse\u001B[39;00m {}), \u001B[38;5;241m*\u001B[39m\u001B[38;5;241m*\u001B[39mkwargs)\n",
      "File \u001B[1;32m~\\anaconda3\\lib\\site-packages\\matplotlib\\axes\\_axes.py:1662\u001B[0m, in \u001B[0;36mAxes.plot\u001B[1;34m(self, scalex, scaley, data, *args, **kwargs)\u001B[0m\n\u001B[0;32m   1419\u001B[0m \u001B[38;5;124;03m\"\"\"\u001B[39;00m\n\u001B[0;32m   1420\u001B[0m \u001B[38;5;124;03mPlot y versus x as lines and/or markers.\u001B[39;00m\n\u001B[0;32m   1421\u001B[0m \n\u001B[1;32m   (...)\u001B[0m\n\u001B[0;32m   1659\u001B[0m \u001B[38;5;124;03m(``'green'``) or hex strings (``'#008000'``).\u001B[39;00m\n\u001B[0;32m   1660\u001B[0m \u001B[38;5;124;03m\"\"\"\u001B[39;00m\n\u001B[0;32m   1661\u001B[0m kwargs \u001B[38;5;241m=\u001B[39m cbook\u001B[38;5;241m.\u001B[39mnormalize_kwargs(kwargs, mlines\u001B[38;5;241m.\u001B[39mLine2D)\n\u001B[1;32m-> 1662\u001B[0m lines \u001B[38;5;241m=\u001B[39m [\u001B[38;5;241m*\u001B[39m\u001B[38;5;28mself\u001B[39m\u001B[38;5;241m.\u001B[39m_get_lines(\u001B[38;5;241m*\u001B[39margs, data\u001B[38;5;241m=\u001B[39mdata, \u001B[38;5;241m*\u001B[39m\u001B[38;5;241m*\u001B[39mkwargs)]\n\u001B[0;32m   1663\u001B[0m \u001B[38;5;28;01mfor\u001B[39;00m line \u001B[38;5;129;01min\u001B[39;00m lines:\n\u001B[0;32m   1664\u001B[0m     \u001B[38;5;28mself\u001B[39m\u001B[38;5;241m.\u001B[39madd_line(line)\n",
      "File \u001B[1;32m~\\anaconda3\\lib\\site-packages\\matplotlib\\axes\\_base.py:311\u001B[0m, in \u001B[0;36m_process_plot_var_args.__call__\u001B[1;34m(self, data, *args, **kwargs)\u001B[0m\n\u001B[0;32m    309\u001B[0m     this \u001B[38;5;241m+\u001B[39m\u001B[38;5;241m=\u001B[39m args[\u001B[38;5;241m0\u001B[39m],\n\u001B[0;32m    310\u001B[0m     args \u001B[38;5;241m=\u001B[39m args[\u001B[38;5;241m1\u001B[39m:]\n\u001B[1;32m--> 311\u001B[0m \u001B[38;5;28;01myield from\u001B[39;00m \u001B[38;5;28;43mself\u001B[39;49m\u001B[38;5;241;43m.\u001B[39;49m\u001B[43m_plot_args\u001B[49m\u001B[43m(\u001B[49m\n\u001B[0;32m    312\u001B[0m \u001B[43m    \u001B[49m\u001B[43mthis\u001B[49m\u001B[43m,\u001B[49m\u001B[43m \u001B[49m\u001B[43mkwargs\u001B[49m\u001B[43m,\u001B[49m\u001B[43m \u001B[49m\u001B[43mambiguous_fmt_datakey\u001B[49m\u001B[38;5;241;43m=\u001B[39;49m\u001B[43mambiguous_fmt_datakey\u001B[49m\u001B[43m)\u001B[49m\n",
      "File \u001B[1;32m~\\anaconda3\\lib\\site-packages\\matplotlib\\axes\\_base.py:504\u001B[0m, in \u001B[0;36m_process_plot_var_args._plot_args\u001B[1;34m(self, tup, kwargs, return_kwargs, ambiguous_fmt_datakey)\u001B[0m\n\u001B[0;32m    501\u001B[0m     \u001B[38;5;28mself\u001B[39m\u001B[38;5;241m.\u001B[39maxes\u001B[38;5;241m.\u001B[39myaxis\u001B[38;5;241m.\u001B[39mupdate_units(y)\n\u001B[0;32m    503\u001B[0m \u001B[38;5;28;01mif\u001B[39;00m x\u001B[38;5;241m.\u001B[39mshape[\u001B[38;5;241m0\u001B[39m] \u001B[38;5;241m!=\u001B[39m y\u001B[38;5;241m.\u001B[39mshape[\u001B[38;5;241m0\u001B[39m]:\n\u001B[1;32m--> 504\u001B[0m     \u001B[38;5;28;01mraise\u001B[39;00m \u001B[38;5;167;01mValueError\u001B[39;00m(\u001B[38;5;124mf\u001B[39m\u001B[38;5;124m\"\u001B[39m\u001B[38;5;124mx and y must have same first dimension, but \u001B[39m\u001B[38;5;124m\"\u001B[39m\n\u001B[0;32m    505\u001B[0m                      \u001B[38;5;124mf\u001B[39m\u001B[38;5;124m\"\u001B[39m\u001B[38;5;124mhave shapes \u001B[39m\u001B[38;5;132;01m{\u001B[39;00mx\u001B[38;5;241m.\u001B[39mshape\u001B[38;5;132;01m}\u001B[39;00m\u001B[38;5;124m and \u001B[39m\u001B[38;5;132;01m{\u001B[39;00my\u001B[38;5;241m.\u001B[39mshape\u001B[38;5;132;01m}\u001B[39;00m\u001B[38;5;124m\"\u001B[39m)\n\u001B[0;32m    506\u001B[0m \u001B[38;5;28;01mif\u001B[39;00m x\u001B[38;5;241m.\u001B[39mndim \u001B[38;5;241m>\u001B[39m \u001B[38;5;241m2\u001B[39m \u001B[38;5;129;01mor\u001B[39;00m y\u001B[38;5;241m.\u001B[39mndim \u001B[38;5;241m>\u001B[39m \u001B[38;5;241m2\u001B[39m:\n\u001B[0;32m    507\u001B[0m     \u001B[38;5;28;01mraise\u001B[39;00m \u001B[38;5;167;01mValueError\u001B[39;00m(\u001B[38;5;124mf\u001B[39m\u001B[38;5;124m\"\u001B[39m\u001B[38;5;124mx and y can be no greater than 2D, but have \u001B[39m\u001B[38;5;124m\"\u001B[39m\n\u001B[0;32m    508\u001B[0m                      \u001B[38;5;124mf\u001B[39m\u001B[38;5;124m\"\u001B[39m\u001B[38;5;124mshapes \u001B[39m\u001B[38;5;132;01m{\u001B[39;00mx\u001B[38;5;241m.\u001B[39mshape\u001B[38;5;132;01m}\u001B[39;00m\u001B[38;5;124m and \u001B[39m\u001B[38;5;132;01m{\u001B[39;00my\u001B[38;5;241m.\u001B[39mshape\u001B[38;5;132;01m}\u001B[39;00m\u001B[38;5;124m\"\u001B[39m)\n",
      "\u001B[1;31mValueError\u001B[0m: x and y must have same first dimension, but have shapes (2,) and (150,)"
     ]
    }
   ],
   "source": [
    "num_episodes = 150 #Anzahl Trainings durchläufe (50 norm)\n",
    "reward_goal = 10000                 #Reward for reaching the goal\n",
    "reward_crash = -1000                #Reward for colliding with a car\n",
    "reward_l = []\n",
    "target_l = []\n",
    "eps_l = []\n",
    "for i_episode in range(num_episodes):\n",
    "    reward_game = 0\n",
    "    # Initialize the environment and state\n",
    "    print(f\"Durchlauf {i_episode} von {num_episodes}\")\n",
    "    env.reset()\n",
    "    last_screen = get_screen()\n",
    "    #print(\"get screen check\")\n",
    "    current_screen = get_screen()\n",
    "    #print(\"get screen check2\")\n",
    "    state = current_screen - last_screen\n",
    "    done = False\n",
    "    count_frames = 0 # count frames of current Episonde (Game)\n",
    "    eps_dec_f()\n",
    "    while not done:\n",
    "        # Select and perform an action\n",
    "        action = select_action(state)\n",
    "        _, reward, done, _, _ = env.step(action.item())\n",
    "        reward_game += reward\n",
    "        #print(done)\n",
    "        reward = torch.tensor([reward], device=device)\n",
    "\n",
    "        # Observe new state\n",
    "        last_screen = current_screen\n",
    "        current_screen = get_screen()\n",
    "        count_frames += 1\n",
    "        #print(\"get screen check3 \" + str(count_frames))\n",
    "        if not done:\n",
    "            next_state = current_screen - last_screen\n",
    "        else:\n",
    "            next_state = None\n",
    "\n",
    "        # Store the transition in memory\n",
    "        memory.push(state, action, next_state, reward)\n",
    "\n",
    "        # Move to the next state\n",
    "        state = next_state\n",
    "\n",
    "        # Perform one step of the optimization (on the policy network)\n",
    "        optimize_model()\n",
    "        if done:\n",
    "            reward_l.append(reward_game)\n",
    "            target_runs = ClipReward_2.get_TargetRuns(env)\n",
    "            target_l.append(target_runs)\n",
    "            ClipReward_2.reset_TargetRuns(env)\n",
    "            #episode_durations.append(count_frames + 1)\n",
    "            #plot_durations()\n",
    "            #break #Bricht training nach einen Durchlauf ab\n",
    "\n",
    "        # Update the target network, copying all weights and biases in DQN\n",
    "        if count_frames % TARGET_UPDATE == 0:\n",
    "            target_net.load_state_dict(policy_net.state_dict())\n",
    "\n",
    "print('Complete')\n",
    "print(reward_l)\n",
    "print(target_l)\n",
    "print(get_eps())\n",
    "\n",
    "x = np.arange(0, 2)\n",
    "plt.plot(x, reward_l, label = \"cumulative reward per game\")                          #Cumulative reward per game\n",
    "plt.title(f\"Cumulative reward per game ({num_episodes} games, eps. dec. = , lr = )\")\n",
    "plt.xlabel(\"Game\")\n",
    "plt.ylabel(\"Cumulative reward per game\")\n",
    "plt.legend()\n",
    "plt.grid()\n",
    "plt.show()"
   ],
   "metadata": {
    "collapsed": false,
    "pycharm": {
     "is_executing": true
    }
   }
  },
  {
   "cell_type": "markdown",
   "source": [
    "## Versionen und Training"
   ],
   "metadata": {
    "collapsed": false
   }
  },
  {
   "cell_type": "markdown",
   "source": [
    "### Version 1\n",
    "Durchläufe: 100\n",
    "BATCH_SIZE = 128\n",
    "GAMMA = 0.999\n",
    "EPS_START = 0.9\n",
    "EPS_END = 0.05\n",
    "EPS_DECAY = 200\n",
    "TARGET_UPDATE = 10"
   ],
   "metadata": {
    "collapsed": false
   }
  },
  {
   "cell_type": "code",
   "execution_count": null,
   "outputs": [],
   "source": [
    "durchlaeufe = 100\n",
    "reward_l = [15534.089366278236, 33371.625360748585, 40050.42578424262, 80362.79223289592, 97253.26552119845, 102085.89357266089, 93485.68520473859, 86093.47003460408, 86430.6684166868, 51919.283446969945, 86124.28011402431, 33940.0638885906, 49433.87109409379, 28952.54644169568, 6832.512354631882, 42534.42849106938, 57703.39133545149, 63343.32479790668, 56643.07178528527, 93297.7836328965, 65302.2451598579, 35170.729857610815, 33680.90434345364, 75563.21844203743, 45828.45997087675, 36537.990390183106, 50867.21290351133, 43907.4203429979, 30214.038209100356, 62309.89594492196, 110617.2909131871, 30696.74073307063, 11339.356321157435, -17487.488724398994, 53305.294252672786, 94531.09375269871, 118002.26586152402, 105441.5892003402, 12805.125472215592, 42136.51138357016, 64913.405308615576, 41250.16867943705, 25621.55045845815, 24215.711718193656, 26361.632203395093, 14893.811911289156, 14383.597651582337, 10322.240613439295, 41082.13946869631, 19026.67589766254, 25072.147833087536, -68466.6485427713, -11285.350805114675, -37214.62362561698, -29710.1626163695, -4768.035668588711, 801.1983293117949, -14196.173035615027, 475.16918356921764, -4377.64289245502, 18980.75338510559, 2987.8850072992623, -3873.0220860801824, 14492.768311840899, 34311.16382921894, 20025.54455313546, 37472.620911500184, 35226.415903706446, 34239.46214216285, 17184.45946912088, 18112.2960802321, 17327.01550307076, 17218.854698016432, 980.6878014089091, 15212.40740620722, 6645.6748564736135, 30162.16026221027, 15880.252986393016, 8911.842957224251, -1010.5641792190013, 18811.50664419214, 14177.127553401606, -5378.878853473791, -5380.161127674918, -6735.755423402432, -7025.138065808816, 18055.56382150889, -1987.6407376668508, -4147.943542331022, 10874.53659138072, 19032.691562950324, -633.6941091647748, 3111.225339964259, -24510.944036316065, -964.340851403585, -12121.413540137331, 4567.250212912411, -136.4438286024473, -2231.869937326936, 5714.7172179619365]\n",
    "\n",
    "target_l = [3, 3, 1, 2, 2, 0, 1, 0, 0, 0, 0, 1, 0, 0, 0, 0, 1, 7, 4, 3, 1, 1, 1, 0, 0, 1, 0, 0, 0, 0, 1, 0, 0, 0, 0, 0, 0, 0, 0, 0, 0, 0, 0, 0, 0, 0, 0, 0, 2, 0, 0, 0, 0, 0, 0, 0, 0, 0, 1, 2, 1, 1, 1, 4, 4, 11, 9, 8, 12, 2, 10, 0, 0, 0, 0, 2, 7, 0, 0, 0, 1, 0, 0, 0, 0, 0, 0, 0, 0, 0, 28, 0, 0, 0, 1, 0, 0, 0, 0, 3]\n",
    "\n",
    "print(\"Durchschnitt = \" + str(sum(target_l) / durchlaeufe))\n",
    "\n",
    "x = np.arange(0,durchlaeufe)\n",
    "plt.plot(x, reward_l, label = \"cumulative reward per game\")                          #Cumulative reward per game\n",
    "plt.title(f\"Cumulative reward per game ({durchlaeufe} games\")\n",
    "plt.xlabel(\"Game\")\n",
    "plt.ylabel(\"Cumulative reward per game\")\n",
    "plt.legend()\n",
    "plt.grid()\n",
    "plt.show()\n",
    "\n",
    "\n",
    "plt.plot(x, target_l, label = \"Target runs per game\")\n",
    "plt.title(f\"Target runs per game {durchlaeufe}\")\n",
    "plt.xlabel(\"Game\")\n",
    "plt.ylabel(\"Target per game\")\n",
    "plt.legend()\n",
    "plt.grid()\n",
    "plt.show()"
   ],
   "metadata": {
    "collapsed": false,
    "pycharm": {
     "is_executing": true
    }
   }
  },
  {
   "cell_type": "markdown",
   "source": [
    " ## Version 2\n",
    "\n",
    "Durchläufe: 25\n",
    "BATCH_SIZE = 128\n",
    "GAMMA = 0.999\n",
    "EPS_START = 1\n",
    "EPS_END = 0.001\n",
    "EPS_DECAY = 200\n",
    "TARGET_UPDATE = 10"
   ],
   "metadata": {
    "collapsed": false
   }
  },
  {
   "cell_type": "code",
   "execution_count": null,
   "outputs": [],
   "source": [
    "durchlaeufe = 25\n",
    "reward_l = [6456.138037930415, 33431.709585732824, 55406.5704281588, 80041.30407931746, 78149.0755731125, 83487.49965156747, 82774.83457988802, 115971.41518024953, 114200.40347564778, 118041.03153887494, 103039.71191927668, 114356.06126916796, 84613.59883493227, 111317.6057815298, 88498.51359658799, 46652.75698639783, 53778.480792947244, 77874.22529970748, 77648.13361208719, 89137.06969394039, 88424.3191357758, 84628.16910551324, 103395.96152757888, 91180.02048236104, 60532.299522002155]\n",
    "\n",
    "target_l = [1, 0, 0, 0, 0, 0, 0, 0, 0, 0, 0, 0, 1, 0, 1, 2, 1, 2, 0, 0, 2, 0, 0, 2, 0]\n",
    "\n",
    "x = np.arange(0,durchlaeufe)\n",
    "plt.plot(x, reward_l, label = \"cumulative reward per game\")                          #Cumulative reward per game\n",
    "plt.title(f\"Cumulative reward per game ({durchlaeufe} games\")\n",
    "plt.xlabel(\"Game\")\n",
    "plt.ylabel(\"Cumulative reward per game\")\n",
    "plt.legend()\n",
    "plt.grid()\n",
    "plt.show()\n",
    "\n",
    "plt.plot(x, target_l, label = \"Target runs per game\")\n",
    "plt.title(f\"Target runs per game {durchlaeufe}\")\n",
    "plt.xlabel(\"Game\")\n",
    "plt.ylabel(\"Target per game\")\n",
    "plt.legend()\n",
    "plt.grid()\n",
    "plt.show()"
   ],
   "metadata": {
    "collapsed": false,
    "pycharm": {
     "is_executing": true
    }
   }
  },
  {
   "cell_type": "code",
   "execution_count": null,
   "outputs": [],
   "source": [],
   "metadata": {
    "collapsed": false,
    "pycharm": {
     "is_executing": true
    }
   }
  }
 ],
 "metadata": {
  "kernelspec": {
   "display_name": "Python 3",
   "language": "python",
   "name": "python3"
  },
  "language_info": {
   "codemirror_mode": {
    "name": "ipython",
    "version": 2
   },
   "file_extension": ".py",
   "mimetype": "text/x-python",
   "name": "python",
   "nbconvert_exporter": "python",
   "pygments_lexer": "ipython2",
   "version": "2.7.6"
  }
 },
 "nbformat": 4,
 "nbformat_minor": 0
}
